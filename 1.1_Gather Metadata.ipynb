{
 "cells": [
  {
   "cell_type": "markdown",
   "metadata": {},
   "source": [
    "## Agenda:\n",
    "\n",
    "    To understand some basic syntax to gather metadata before you actually start data analysis.\n",
    "    \n",
    "\n",
    "\n",
    "### Learn Data Analysis using Pandas and Python\n",
    "\n",
    "    Pyhton Pandas provides powerful tools.\n",
    "    \n",
    "    \n",
    "* Various dataframe functions to get the metadata information:\n",
    "\n",
    "    - Select a few columns\n",
    "    - Select a few rows\n",
    "    - Describe\n",
    "    - Dtypes\n",
    "    - Shape\n",
    "    - Type"
   ]
  },
  {
   "cell_type": "markdown",
   "metadata": {},
   "source": [
    "---"
   ]
  },
  {
   "cell_type": "code",
   "execution_count": 1,
   "metadata": {},
   "outputs": [],
   "source": [
    "#Import Library\n",
    "\n",
    "import pandas as pd\n",
    "import os"
   ]
  }
 ],
 "metadata": {
  "kernelspec": {
   "display_name": "Python 3",
   "language": "python",
   "name": "python3"
  },
  "language_info": {
   "codemirror_mode": {
    "name": "ipython",
    "version": 3
   },
   "file_extension": ".py",
   "mimetype": "text/x-python",
   "name": "python",
   "nbconvert_exporter": "python",
   "pygments_lexer": "ipython3",
   "version": "3.6.5"
  }
 },
 "nbformat": 4,
 "nbformat_minor": 2
}
